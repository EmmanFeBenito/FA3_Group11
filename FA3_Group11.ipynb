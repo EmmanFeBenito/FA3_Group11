{
 "cells": [
  {
   "cell_type": "markdown",
   "id": "6a13fb37",
   "metadata": {},
   "source": [
    "### 1. The volume of a sphere with radius r is 4/3πr^3. What is the volume of a sphere with radius 5?"
   ]
  },
  {
   "cell_type": "code",
   "execution_count": 61,
   "id": "3ceb3530",
   "metadata": {},
   "outputs": [
    {
     "data": {
      "text/plain": [
       "523.5987755982989"
      ]
     },
     "execution_count": 61,
     "metadata": {},
     "output_type": "execute_result"
    }
   ],
   "source": [
    "import math\n",
    "r = 5\n",
    "volume = (4/3)*math.pi*(r**3)\n",
    "volume"
   ]
  },
  {
   "cell_type": "code",
   "execution_count": 62,
   "id": "803c0da6",
   "metadata": {},
   "outputs": [
    {
     "name": "stdout",
     "output_type": "stream",
     "text": [
      "enter radius: 5\n",
      "The volume is:  523.3333333333334\n"
     ]
    }
   ],
   "source": [
    "pi = 3.14\n",
    "r = float(input (\"enter radius: \"))\n",
    "Volume = (4/3) * 3.14 * (r**3) \n",
    "           \n",
    "print (\"The volume is: \" , Volume)"
   ]
  },
  {
   "cell_type": "markdown",
   "id": "bff30af2",
   "metadata": {},
   "source": [
    "### 2. Suppose the cover price of a book is 24.95, but bookstores get a 40% discount. Shipping costs $3 for the first copy and 75 cents for each additional copy. What is the total wholesale cost for 60 copies?"
   ]
  },
  {
   "cell_type": "code",
   "execution_count": 63,
   "id": "80e7cce5",
   "metadata": {},
   "outputs": [
    {
     "name": "stdout",
     "output_type": "stream",
     "text": [
      "The total price for 60 books including shipping and discount is 945.45$\n"
     ]
    }
   ],
   "source": [
    "price = 24.95 - (24.95)*4/10\n",
    "order = 60\n",
    "shipping = 3 + 0.75*(order-1)\n",
    "print('The total price for 60 books including shipping and discount is %.2f$' % (order*price + shipping))"
   ]
  },
  {
   "cell_type": "code",
   "execution_count": 64,
   "id": "c54306c3",
   "metadata": {},
   "outputs": [
    {
     "name": "stdout",
     "output_type": "stream",
     "text": [
      "Enter the number of copies : 60\n",
      "Whole sale of 60  copies is 945.45\n"
     ]
    }
   ],
   "source": [
    "n = int(input('Enter the number of copies : '))\n",
    "\n",
    "Book_store_price_of_one_copy = (60*24.95)/100\n",
    "\n",
    "Shipping_cost_for_copy = (3+((n-1)*0.75))\n",
    "\n",
    "whole_sale = (n*Book_store_price_of_one_copy)+Shipping_cost_for_copy\n",
    "\n",
    "print(f'Whole sale of {n}  copies is {whole_sale}')"
   ]
  },
  {
   "cell_type": "markdown",
   "id": "19d7f310",
   "metadata": {},
   "source": [
    "### 3. If I leave my house at 6:52 am and run 1 mile at an easy pace (8:15 per mile), then 3 miles at tempo (7:12 per mile) and 1 mile at an easy pace again, what time do I get home for breakfast? "
   ]
  },
  {
   "cell_type": "code",
   "execution_count": 57,
   "id": "56881bfa",
   "metadata": {},
   "outputs": [
    {
     "name": "stdout",
     "output_type": "stream",
     "text": [
      "You arrive home at 7 : 29 am for breakfast.\n"
     ]
    }
   ],
   "source": [
    "easypace = 8.25\n",
    "tempopace = 7.0333333\n",
    "intimeinmin = 412\n",
    "\n",
    "minutes = (easypace*2) + (tempopace*3)\n",
    "timeinmin = intimeinmin + minutes\n",
    "hours = time/60\n",
    "finalhour = hours // 1\n",
    "finalhour = '%d'%finalhour\n",
    "min2 = hours % 1\n",
    "finalmin = min2*60 // 1\n",
    "finalmin = '%d'%finalmin\n",
    "\n",
    "print(\"You arrive home at\",finalhour,\":\",finalmin, \"am for breakfast.\")"
   ]
  }
 ],
 "metadata": {
  "kernelspec": {
   "display_name": "Python 3 (ipykernel)",
   "language": "python",
   "name": "python3"
  },
  "language_info": {
   "codemirror_mode": {
    "name": "ipython",
    "version": 3
   },
   "file_extension": ".py",
   "mimetype": "text/x-python",
   "name": "python",
   "nbconvert_exporter": "python",
   "pygments_lexer": "ipython3",
   "version": "3.9.13"
  }
 },
 "nbformat": 4,
 "nbformat_minor": 5
}
